{
  "nbformat": 4,
  "nbformat_minor": 0,
  "metadata": {
    "colab": {
      "provenance": [],
      "authorship_tag": "ABX9TyPBENJnIZrwBbihluGkn3U4",
      "include_colab_link": true
    },
    "kernelspec": {
      "name": "python3",
      "display_name": "Python 3"
    },
    "language_info": {
      "name": "python"
    }
  },
  "cells": [
    {
      "cell_type": "markdown",
      "metadata": {
        "id": "view-in-github",
        "colab_type": "text"
      },
      "source": [
        "<a href=\"https://colab.research.google.com/github/Amarsinh0/functions/blob/main/average%20using%20mean%20function%20.ipynb\" target=\"_parent\"><img src=\"https://colab.research.google.com/assets/colab-badge.svg\" alt=\"Open In Colab\"/></a>"
      ]
    },
    {
      "cell_type": "code",
      "execution_count": 4,
      "metadata": {
        "colab": {
          "base_uri": "https://localhost:8080/"
        },
        "id": "5xVeqRVjKFmN",
        "outputId": "672c8c16-5cf5-474b-aa23-80a5eb76621f"
      },
      "outputs": [
        {
          "output_type": "stream",
          "name": "stdout",
          "text": [
            "Enter numbers: 10\n",
            "the average is:  5.5\n"
          ]
        }
      ],
      "source": [
        "# find average using mean function from statastic module\n",
        "from statistics import mean\n",
        "n=int(input(\"Enter numbers: \"))\n",
        "a=[]\n",
        "for i in range(1,n+1):\n",
        "    a.append(i)\n",
        "average=mean(a)\n",
        "print(\"the average is: \",average)"
      ]
    }
  ]
}