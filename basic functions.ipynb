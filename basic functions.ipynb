{
  "nbformat": 4,
  "nbformat_minor": 0,
  "metadata": {
    "colab": {
      "provenance": [],
      "authorship_tag": "ABX9TyMYl5geY+P4cLlDjnMdHqJ/",
      "include_colab_link": true
    },
    "kernelspec": {
      "name": "python3",
      "display_name": "Python 3"
    },
    "language_info": {
      "name": "python"
    }
  },
  "cells": [
    {
      "cell_type": "markdown",
      "metadata": {
        "id": "view-in-github",
        "colab_type": "text"
      },
      "source": [
        "<a href=\"https://colab.research.google.com/github/Amarsinh0/functions/blob/main/basic%20functions.ipynb\" target=\"_parent\"><img src=\"https://colab.research.google.com/assets/colab-badge.svg\" alt=\"Open In Colab\"/></a>"
      ]
    },
    {
      "cell_type": "code",
      "execution_count": 13,
      "metadata": {
        "colab": {
          "base_uri": "https://localhost:8080/"
        },
        "id": "JiH5tXpYHF1l",
        "outputId": "7399a480-2892-4127-e33d-2dacf6608bf6"
      },
      "outputs": [
        {
          "output_type": "stream",
          "name": "stdout",
          "text": [
            "ARTIFICIAL INTELLIGENCE\n",
            "artificial intelligence\n",
            "ARTIFICIAL INTELLIGENCE\n",
            "Artificial Intelligence\n",
            "Artificial intelligence\n",
            "['artificial', 'intelligence']\n",
            "['artificial intelligence']\n",
            "5\n",
            "2\n"
          ]
        }
      ],
      "source": [
        "# basic functions used in python\n",
        "s=\"artificial intelligence\"\n",
        "print(s.upper())\n",
        "print(s.lower())\n",
        "print(s.swapcase())\n",
        "print(s.title())\n",
        "print(s.capitalize())\n",
        "print(s.split())\n",
        "print(s.split(\" , \"))\n",
        "print(s.count(\"i\"))\n",
        "print(s.count(\"i\",0,6))"
      ]
    }
  ]
}